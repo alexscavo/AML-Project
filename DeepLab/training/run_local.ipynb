{
 "cells": [
  {
   "cell_type": "code",
   "execution_count": 1,
   "metadata": {},
   "outputs": [
    {
     "name": "stderr",
     "output_type": "stream",
     "text": [
      "c:\\Users\\vince\\anaconda3\\envs\\RobotLearning\\lib\\site-packages\\tqdm\\auto.py:21: TqdmWarning: IProgress not found. Please update jupyter and ipywidgets. See https://ipywidgets.readthedocs.io/en/stable/user_install.html\n",
      "  from .autonotebook import tqdm as notebook_tqdm\n"
     ]
    },
    {
     "name": "stdout",
     "output_type": "stream",
     "text": [
      "Loading ResNet-101 pretrained weights...\n"
     ]
    },
    {
     "name": "stderr",
     "output_type": "stream",
     "text": [
      "c:\\Users\\vince\\anaconda3\\envs\\RobotLearning\\lib\\site-packages\\torchvision\\models\\_utils.py:208: UserWarning: The parameter 'pretrained' is deprecated since 0.13 and may be removed in the future, please use 'weights' instead.\n",
      "  warnings.warn(\n",
      "c:\\Users\\vince\\anaconda3\\envs\\RobotLearning\\lib\\site-packages\\torchvision\\models\\_utils.py:223: UserWarning: Arguments other than a weight enum or `None` for 'weights' are deprecated since 0.13 and may be removed in the future. The current behavior is equivalent to passing `weights=ResNet101_Weights.IMAGENET1K_V1`. You can also use `weights=ResNet101_Weights.DEFAULT` to get the most up-to-date weights.\n",
      "  warnings.warn(msg)\n",
      "c:\\Users\\vince\\anaconda3\\envs\\RobotLearning\\lib\\site-packages\\torch\\_compile.py:24: UserWarning: optimizer contains a parameter group with duplicate parameters; in future, this will cause an error; see github.com/pytorch/pytorch/issues/40967 for more information\n",
      "  return torch._dynamo.disable(fn, recursive)(*args, **kwargs)\n"
     ]
    },
    {
     "name": "stdout",
     "output_type": "stream",
     "text": [
      "Pretrained weights loaded successfully.\n"
     ]
    },
    {
     "name": "stderr",
     "output_type": "stream",
     "text": [
      "Epoch 1/20 [Training]: 100%|██████████| 73/73 [00:52<00:00,  1.39it/s, loss=4.07]\n"
     ]
    },
    {
     "name": "stdout",
     "output_type": "stream",
     "text": [
      "Epoch [1/20] Training Loss: 4.0722, mIoU: 0.0837, Average accuracy: 17.0753\n"
     ]
    },
    {
     "name": "stderr",
     "output_type": "stream",
     "text": [
      "Epoch 1/20 [Validation]: 100%|██████████| 43/43 [00:26<00:00,  1.60it/s, loss=1.78]\n"
     ]
    },
    {
     "name": "stdout",
     "output_type": "stream",
     "text": [
      "Epoch [1/20] Validation Loss: 1.7780, mIoU: 0.0991, Average accuracy: 22.1305 %, Total FLOPs: 1174.75 GFLOPs, Average Latency: 1.40 ms\n",
      "\n"
     ]
    },
    {
     "name": "stderr",
     "output_type": "stream",
     "text": [
      "Epoch 2/20 [Training]: 100%|██████████| 73/73 [00:51<00:00,  1.41it/s, loss=2.74]\n"
     ]
    },
    {
     "name": "stdout",
     "output_type": "stream",
     "text": [
      "Epoch [2/20] Training Loss: 2.7427, mIoU: 0.1125, Average accuracy: 22.4509\n"
     ]
    },
    {
     "name": "stderr",
     "output_type": "stream",
     "text": [
      "Epoch 2/20 [Validation]: 100%|██████████| 43/43 [00:26<00:00,  1.63it/s, loss=3]   \n"
     ]
    },
    {
     "name": "stdout",
     "output_type": "stream",
     "text": [
      "Epoch [2/20] Validation Loss: 3.0031, mIoU: 0.1494, Average accuracy: 24.0413 %, Total FLOPs: 1174.75 GFLOPs, Average Latency: 0.19 ms\n",
      "\n"
     ]
    },
    {
     "name": "stderr",
     "output_type": "stream",
     "text": [
      "Epoch 3/20 [Training]: 100%|██████████| 73/73 [00:52<00:00,  1.39it/s, loss=2.1] \n"
     ]
    },
    {
     "name": "stdout",
     "output_type": "stream",
     "text": [
      "Epoch [3/20] Training Loss: 2.1011, mIoU: 0.1527, Average accuracy: 26.6595\n"
     ]
    },
    {
     "name": "stderr",
     "output_type": "stream",
     "text": [
      "Epoch 3/20 [Validation]: 100%|██████████| 43/43 [00:26<00:00,  1.62it/s, loss=7.62]\n"
     ]
    },
    {
     "name": "stdout",
     "output_type": "stream",
     "text": [
      "Epoch [3/20] Validation Loss: 7.6228, mIoU: 0.1609, Average accuracy: 27.5559 %, Total FLOPs: 1174.75 GFLOPs, Average Latency: 0.19 ms\n",
      "\n"
     ]
    },
    {
     "name": "stderr",
     "output_type": "stream",
     "text": [
      "Epoch 4/20 [Training]: 100%|██████████| 73/73 [00:50<00:00,  1.44it/s, loss=1.63]\n"
     ]
    },
    {
     "name": "stdout",
     "output_type": "stream",
     "text": [
      "Epoch [4/20] Training Loss: 1.6349, mIoU: 0.1955, Average accuracy: 31.3611\n"
     ]
    },
    {
     "name": "stderr",
     "output_type": "stream",
     "text": [
      "Epoch 4/20 [Validation]: 100%|██████████| 43/43 [00:26<00:00,  1.62it/s, loss=8.52]\n"
     ]
    },
    {
     "name": "stdout",
     "output_type": "stream",
     "text": [
      "Epoch [4/20] Validation Loss: 8.5187, mIoU: 0.1842, Average accuracy: 28.2425 %, Total FLOPs: 1174.75 GFLOPs, Average Latency: 0.21 ms\n",
      "\n"
     ]
    },
    {
     "name": "stderr",
     "output_type": "stream",
     "text": [
      "Epoch 5/20 [Training]: 100%|██████████| 73/73 [00:50<00:00,  1.45it/s, loss=1.52]\n"
     ]
    },
    {
     "name": "stdout",
     "output_type": "stream",
     "text": [
      "Epoch [5/20] Training Loss: 1.5210, mIoU: 0.2031, Average accuracy: 32.0581\n"
     ]
    },
    {
     "name": "stderr",
     "output_type": "stream",
     "text": [
      "Epoch 5/20 [Validation]: 100%|██████████| 43/43 [00:26<00:00,  1.63it/s, loss=2.18]\n"
     ]
    },
    {
     "name": "stdout",
     "output_type": "stream",
     "text": [
      "Epoch [5/20] Validation Loss: 2.1826, mIoU: 0.2146, Average accuracy: 32.5827 %, Total FLOPs: 1174.75 GFLOPs, Average Latency: 0.21 ms\n",
      "\n"
     ]
    },
    {
     "name": "stderr",
     "output_type": "stream",
     "text": [
      "Epoch 6/20 [Training]: 100%|██████████| 73/73 [00:50<00:00,  1.43it/s, loss=1.4] \n"
     ]
    },
    {
     "name": "stdout",
     "output_type": "stream",
     "text": [
      "Epoch [6/20] Training Loss: 1.3959, mIoU: 0.2309, Average accuracy: 34.4774\n"
     ]
    },
    {
     "name": "stderr",
     "output_type": "stream",
     "text": [
      "Epoch 6/20 [Validation]: 100%|██████████| 43/43 [00:27<00:00,  1.58it/s, loss=12.6]\n"
     ]
    },
    {
     "name": "stdout",
     "output_type": "stream",
     "text": [
      "Epoch [6/20] Validation Loss: 12.5744, mIoU: 0.2083, Average accuracy: 32.9353 %, Total FLOPs: 1174.75 GFLOPs, Average Latency: 0.19 ms\n",
      "\n"
     ]
    },
    {
     "name": "stderr",
     "output_type": "stream",
     "text": [
      "Epoch 7/20 [Training]: 100%|██████████| 73/73 [00:51<00:00,  1.41it/s, loss=1.35]\n"
     ]
    },
    {
     "name": "stdout",
     "output_type": "stream",
     "text": [
      "Epoch [7/20] Training Loss: 1.3550, mIoU: 0.2409, Average accuracy: 35.8010\n"
     ]
    },
    {
     "name": "stderr",
     "output_type": "stream",
     "text": [
      "Epoch 7/20 [Validation]: 100%|██████████| 43/43 [00:26<00:00,  1.60it/s, loss=2.38]\n"
     ]
    },
    {
     "name": "stdout",
     "output_type": "stream",
     "text": [
      "Epoch [7/20] Validation Loss: 2.3791, mIoU: 0.2368, Average accuracy: 34.8430 %, Total FLOPs: 1174.75 GFLOPs, Average Latency: 0.20 ms\n",
      "\n"
     ]
    },
    {
     "name": "stderr",
     "output_type": "stream",
     "text": [
      "Epoch 8/20 [Training]: 100%|██████████| 73/73 [00:50<00:00,  1.43it/s, loss=1.28]\n"
     ]
    },
    {
     "name": "stdout",
     "output_type": "stream",
     "text": [
      "Epoch [8/20] Training Loss: 1.2830, mIoU: 0.2549, Average accuracy: 37.2990\n"
     ]
    },
    {
     "name": "stderr",
     "output_type": "stream",
     "text": [
      "Epoch 8/20 [Validation]: 100%|██████████| 43/43 [00:26<00:00,  1.60it/s, loss=1.88]\n"
     ]
    },
    {
     "name": "stdout",
     "output_type": "stream",
     "text": [
      "Epoch [8/20] Validation Loss: 1.8794, mIoU: 0.2446, Average accuracy: 36.3469 %, Total FLOPs: 1174.75 GFLOPs, Average Latency: 0.27 ms\n",
      "\n"
     ]
    },
    {
     "name": "stderr",
     "output_type": "stream",
     "text": [
      "Epoch 9/20 [Training]: 100%|██████████| 73/73 [00:50<00:00,  1.44it/s, loss=1.18]\n"
     ]
    },
    {
     "name": "stdout",
     "output_type": "stream",
     "text": [
      "Epoch [9/20] Training Loss: 1.1834, mIoU: 0.2681, Average accuracy: 38.1652\n"
     ]
    },
    {
     "name": "stderr",
     "output_type": "stream",
     "text": [
      "Epoch 9/20 [Validation]: 100%|██████████| 43/43 [00:26<00:00,  1.61it/s, loss=5.05]\n"
     ]
    },
    {
     "name": "stdout",
     "output_type": "stream",
     "text": [
      "Epoch [9/20] Validation Loss: 5.0520, mIoU: 0.2552, Average accuracy: 38.0573 %, Total FLOPs: 1174.75 GFLOPs, Average Latency: 0.17 ms\n",
      "\n"
     ]
    },
    {
     "name": "stderr",
     "output_type": "stream",
     "text": [
      "Epoch 10/20 [Training]: 100%|██████████| 73/73 [00:51<00:00,  1.43it/s, loss=1.16]\n"
     ]
    },
    {
     "name": "stdout",
     "output_type": "stream",
     "text": [
      "Epoch [10/20] Training Loss: 1.1567, mIoU: 0.2798, Average accuracy: 40.2344\n"
     ]
    },
    {
     "name": "stderr",
     "output_type": "stream",
     "text": [
      "Epoch 10/20 [Validation]: 100%|██████████| 43/43 [00:26<00:00,  1.61it/s, loss=6.94]\n"
     ]
    },
    {
     "name": "stdout",
     "output_type": "stream",
     "text": [
      "Epoch [10/20] Validation Loss: 6.9351, mIoU: 0.2470, Average accuracy: 38.0155 %, Total FLOPs: 1174.75 GFLOPs, Average Latency: 0.16 ms\n",
      "\n"
     ]
    },
    {
     "name": "stderr",
     "output_type": "stream",
     "text": [
      "Epoch 11/20 [Training]: 100%|██████████| 73/73 [00:51<00:00,  1.42it/s, loss=1.11]\n"
     ]
    },
    {
     "name": "stdout",
     "output_type": "stream",
     "text": [
      "Epoch [11/20] Training Loss: 1.1134, mIoU: 0.2939, Average accuracy: 41.7411\n"
     ]
    },
    {
     "name": "stderr",
     "output_type": "stream",
     "text": [
      "Epoch 11/20 [Validation]: 100%|██████████| 43/43 [00:26<00:00,  1.61it/s, loss=4.59]\n"
     ]
    },
    {
     "name": "stdout",
     "output_type": "stream",
     "text": [
      "Epoch [11/20] Validation Loss: 4.5868, mIoU: 0.2865, Average accuracy: 43.3281 %, Total FLOPs: 1174.75 GFLOPs, Average Latency: 0.19 ms\n",
      "\n"
     ]
    },
    {
     "name": "stderr",
     "output_type": "stream",
     "text": [
      "Epoch 12/20 [Training]: 100%|██████████| 73/73 [00:51<00:00,  1.42it/s, loss=1.21]\n"
     ]
    },
    {
     "name": "stdout",
     "output_type": "stream",
     "text": [
      "Epoch [12/20] Training Loss: 1.2089, mIoU: 0.2643, Average accuracy: 40.1638\n"
     ]
    },
    {
     "name": "stderr",
     "output_type": "stream",
     "text": [
      "Epoch 12/20 [Validation]: 100%|██████████| 43/43 [00:26<00:00,  1.61it/s, loss=1.65]\n"
     ]
    },
    {
     "name": "stdout",
     "output_type": "stream",
     "text": [
      "Epoch [12/20] Validation Loss: 1.6452, mIoU: 0.2568, Average accuracy: 40.9215 %, Total FLOPs: 1174.75 GFLOPs, Average Latency: 0.18 ms\n",
      "\n"
     ]
    },
    {
     "name": "stderr",
     "output_type": "stream",
     "text": [
      "Epoch 13/20 [Training]: 100%|██████████| 73/73 [00:51<00:00,  1.43it/s, loss=1.23]\n"
     ]
    },
    {
     "name": "stdout",
     "output_type": "stream",
     "text": [
      "Epoch [13/20] Training Loss: 1.2302, mIoU: 0.2622, Average accuracy: 40.2343\n"
     ]
    },
    {
     "name": "stderr",
     "output_type": "stream",
     "text": [
      "Epoch 13/20 [Validation]: 100%|██████████| 43/43 [00:26<00:00,  1.61it/s, loss=3.48]\n"
     ]
    },
    {
     "name": "stdout",
     "output_type": "stream",
     "text": [
      "Epoch [13/20] Validation Loss: 3.4785, mIoU: 0.2446, Average accuracy: 36.5892 %, Total FLOPs: 1174.75 GFLOPs, Average Latency: 0.20 ms\n",
      "\n"
     ]
    },
    {
     "name": "stderr",
     "output_type": "stream",
     "text": [
      "Epoch 14/20 [Training]: 100%|██████████| 73/73 [00:52<00:00,  1.39it/s, loss=1.08]\n"
     ]
    },
    {
     "name": "stdout",
     "output_type": "stream",
     "text": [
      "Epoch [14/20] Training Loss: 1.0810, mIoU: 0.2994, Average accuracy: 42.9318\n"
     ]
    },
    {
     "name": "stderr",
     "output_type": "stream",
     "text": [
      "Epoch 14/20 [Validation]: 100%|██████████| 43/43 [00:26<00:00,  1.64it/s, loss=1.73]\n"
     ]
    },
    {
     "name": "stdout",
     "output_type": "stream",
     "text": [
      "Epoch [14/20] Validation Loss: 1.7336, mIoU: 0.2762, Average accuracy: 42.8942 %, Total FLOPs: 1174.75 GFLOPs, Average Latency: 0.21 ms\n",
      "\n"
     ]
    },
    {
     "name": "stderr",
     "output_type": "stream",
     "text": [
      "Epoch 15/20 [Training]: 100%|██████████| 73/73 [00:50<00:00,  1.45it/s, loss=1.13]\n"
     ]
    },
    {
     "name": "stdout",
     "output_type": "stream",
     "text": [
      "Epoch [15/20] Training Loss: 1.1305, mIoU: 0.2859, Average accuracy: 42.6170\n"
     ]
    },
    {
     "name": "stderr",
     "output_type": "stream",
     "text": [
      "Epoch 15/20 [Validation]: 100%|██████████| 43/43 [00:26<00:00,  1.64it/s, loss=2.91]\n"
     ]
    },
    {
     "name": "stdout",
     "output_type": "stream",
     "text": [
      "Epoch [15/20] Validation Loss: 2.9073, mIoU: 0.2718, Average accuracy: 41.1473 %, Total FLOPs: 1174.75 GFLOPs, Average Latency: 0.19 ms\n",
      "\n"
     ]
    },
    {
     "name": "stderr",
     "output_type": "stream",
     "text": [
      "Epoch 16/20 [Training]: 100%|██████████| 73/73 [00:50<00:00,  1.45it/s, loss=1.1] \n"
     ]
    },
    {
     "name": "stdout",
     "output_type": "stream",
     "text": [
      "Epoch [16/20] Training Loss: 1.0964, mIoU: 0.3013, Average accuracy: 43.5294\n"
     ]
    },
    {
     "name": "stderr",
     "output_type": "stream",
     "text": [
      "Epoch 16/20 [Validation]: 100%|██████████| 43/43 [00:26<00:00,  1.65it/s, loss=5.12]\n"
     ]
    },
    {
     "name": "stdout",
     "output_type": "stream",
     "text": [
      "Epoch [16/20] Validation Loss: 5.1221, mIoU: 0.2516, Average accuracy: 37.2837 %, Total FLOPs: 1174.75 GFLOPs, Average Latency: 0.21 ms\n",
      "\n"
     ]
    },
    {
     "name": "stderr",
     "output_type": "stream",
     "text": [
      "Epoch 17/20 [Training]: 100%|██████████| 73/73 [00:50<00:00,  1.45it/s, loss=1.01] \n"
     ]
    },
    {
     "name": "stdout",
     "output_type": "stream",
     "text": [
      "Epoch [17/20] Training Loss: 1.0069, mIoU: 0.3193, Average accuracy: 45.1643\n"
     ]
    },
    {
     "name": "stderr",
     "output_type": "stream",
     "text": [
      "Epoch 17/20 [Validation]: 100%|██████████| 43/43 [00:26<00:00,  1.63it/s, loss=2.09]\n"
     ]
    },
    {
     "name": "stdout",
     "output_type": "stream",
     "text": [
      "Epoch [17/20] Validation Loss: 2.0940, mIoU: 0.2867, Average accuracy: 40.7937 %, Total FLOPs: 1174.75 GFLOPs, Average Latency: 0.21 ms\n",
      "\n"
     ]
    },
    {
     "name": "stderr",
     "output_type": "stream",
     "text": [
      "Epoch 18/20 [Training]: 100%|██████████| 73/73 [00:50<00:00,  1.44it/s, loss=0.968]\n"
     ]
    },
    {
     "name": "stdout",
     "output_type": "stream",
     "text": [
      "Epoch [18/20] Training Loss: 0.9677, mIoU: 0.3296, Average accuracy: 46.1831\n"
     ]
    },
    {
     "name": "stderr",
     "output_type": "stream",
     "text": [
      "Epoch 18/20 [Validation]: 100%|██████████| 43/43 [00:26<00:00,  1.64it/s, loss=5.23]\n"
     ]
    },
    {
     "name": "stdout",
     "output_type": "stream",
     "text": [
      "Epoch [18/20] Validation Loss: 5.2278, mIoU: 0.2744, Average accuracy: 38.9813 %, Total FLOPs: 1174.75 GFLOPs, Average Latency: 0.21 ms\n",
      "\n"
     ]
    },
    {
     "name": "stderr",
     "output_type": "stream",
     "text": [
      "Epoch 19/20 [Training]: 100%|██████████| 73/73 [00:50<00:00,  1.46it/s, loss=0.922]\n"
     ]
    },
    {
     "name": "stdout",
     "output_type": "stream",
     "text": [
      "Epoch [19/20] Training Loss: 0.9224, mIoU: 0.3439, Average accuracy: 47.3448\n"
     ]
    },
    {
     "name": "stderr",
     "output_type": "stream",
     "text": [
      "Epoch 19/20 [Validation]: 100%|██████████| 43/43 [00:26<00:00,  1.64it/s, loss=3.66]\n"
     ]
    },
    {
     "name": "stdout",
     "output_type": "stream",
     "text": [
      "Epoch [19/20] Validation Loss: 3.6584, mIoU: 0.2597, Average accuracy: 37.8900 %, Total FLOPs: 1174.75 GFLOPs, Average Latency: 0.26 ms\n",
      "\n"
     ]
    },
    {
     "name": "stderr",
     "output_type": "stream",
     "text": [
      "Epoch 20/20 [Training]: 100%|██████████| 73/73 [00:49<00:00,  1.46it/s, loss=0.948]\n"
     ]
    },
    {
     "name": "stdout",
     "output_type": "stream",
     "text": [
      "Epoch [20/20] Training Loss: 0.9485, mIoU: 0.3421, Average accuracy: 46.9979\n"
     ]
    },
    {
     "name": "stderr",
     "output_type": "stream",
     "text": [
      "Epoch 20/20 [Validation]: 100%|██████████| 43/43 [00:26<00:00,  1.64it/s, loss=3.93]"
     ]
    },
    {
     "name": "stdout",
     "output_type": "stream",
     "text": [
      "Epoch [20/20] Validation Loss: 3.9264, mIoU: 0.2554, Average accuracy: 37.0674 %, Total FLOPs: 1174.75 GFLOPs, Average Latency: 0.26 ms\n",
      "\n"
     ]
    },
    {
     "name": "stderr",
     "output_type": "stream",
     "text": [
      "\n"
     ]
    }
   ],
   "source": [
    "%run train_loveDA.py"
   ]
  }
 ],
 "metadata": {
  "kernelspec": {
   "display_name": "RobotLearning",
   "language": "python",
   "name": "python3"
  },
  "language_info": {
   "codemirror_mode": {
    "name": "ipython",
    "version": 3
   },
   "file_extension": ".py",
   "mimetype": "text/x-python",
   "name": "python",
   "nbconvert_exporter": "python",
   "pygments_lexer": "ipython3",
   "version": "3.8.20"
  }
 },
 "nbformat": 4,
 "nbformat_minor": 2
}
