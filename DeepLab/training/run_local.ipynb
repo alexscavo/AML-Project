{
 "cells": [
  {
   "cell_type": "code",
   "execution_count": 1,
   "metadata": {},
   "outputs": [
    {
     "name": "stderr",
     "output_type": "stream",
     "text": [
      "c:\\Users\\vince\\anaconda3\\envs\\RobotLearning\\lib\\site-packages\\tqdm\\auto.py:21: TqdmWarning: IProgress not found. Please update jupyter and ipywidgets. See https://ipywidgets.readthedocs.io/en/stable/user_install.html\n",
      "  from .autonotebook import tqdm as notebook_tqdm\n"
     ]
    },
    {
     "name": "stdout",
     "output_type": "stream",
     "text": [
      "Loading ResNet-101 pretrained weights...\n"
     ]
    },
    {
     "name": "stderr",
     "output_type": "stream",
     "text": [
      "c:\\Users\\vince\\anaconda3\\envs\\RobotLearning\\lib\\site-packages\\torchvision\\models\\_utils.py:208: UserWarning: The parameter 'pretrained' is deprecated since 0.13 and may be removed in the future, please use 'weights' instead.\n",
      "  warnings.warn(\n",
      "c:\\Users\\vince\\anaconda3\\envs\\RobotLearning\\lib\\site-packages\\torchvision\\models\\_utils.py:223: UserWarning: Arguments other than a weight enum or `None` for 'weights' are deprecated since 0.13 and may be removed in the future. The current behavior is equivalent to passing `weights=ResNet101_Weights.IMAGENET1K_V1`. You can also use `weights=ResNet101_Weights.DEFAULT` to get the most up-to-date weights.\n",
      "  warnings.warn(msg)\n"
     ]
    },
    {
     "name": "stdout",
     "output_type": "stream",
     "text": [
      "Pretrained weights loaded successfully.\n"
     ]
    },
    {
     "name": "stderr",
     "output_type": "stream",
     "text": [
      "c:\\Users\\vince\\anaconda3\\envs\\RobotLearning\\lib\\site-packages\\torch\\_compile.py:24: UserWarning: optimizer contains a parameter group with duplicate parameters; in future, this will cause an error; see github.com/pytorch/pytorch/issues/40967 for more information\n",
      "  return torch._dynamo.disable(fn, recursive)(*args, **kwargs)\n",
      "Epoch 1/20 [Training]: 100%|██████████| 73/73 [01:25<00:00,  1.17s/it, loss=3.69]\n"
     ]
    },
    {
     "name": "stdout",
     "output_type": "stream",
     "text": [
      "Epoch [1/20] Training Loss: 3.6916, mIoU: 0.0892, Average accuracy: 17.8892\n"
     ]
    },
    {
     "name": "stderr",
     "output_type": "stream",
     "text": [
      "Epoch 1/20 [Validation]: 100%|██████████| 43/43 [00:28<00:00,  1.50it/s, loss=3.52]\n"
     ]
    },
    {
     "name": "stdout",
     "output_type": "stream",
     "text": [
      "Epoch [1/20] Validation Loss: 3.5162, mIoU: 0.0993, Average accuracy: 20.5224 %, Total FLOPs: 1174.75 GFLOPs, Average Latency: 1.54 ms\n",
      "\n"
     ]
    },
    {
     "name": "stderr",
     "output_type": "stream",
     "text": [
      "Epoch 2/20 [Training]: 100%|██████████| 73/73 [01:27<00:00,  1.20s/it, loss=2.55]\n"
     ]
    },
    {
     "name": "stdout",
     "output_type": "stream",
     "text": [
      "Epoch [2/20] Training Loss: 2.5549, mIoU: 0.1330, Average accuracy: 23.4107\n"
     ]
    },
    {
     "name": "stderr",
     "output_type": "stream",
     "text": [
      "Epoch 2/20 [Validation]: 100%|██████████| 43/43 [00:29<00:00,  1.47it/s, loss=10.8]\n"
     ]
    },
    {
     "name": "stdout",
     "output_type": "stream",
     "text": [
      "Epoch [2/20] Validation Loss: 10.8169, mIoU: 0.1520, Average accuracy: 26.2245 %, Total FLOPs: 1174.75 GFLOPs, Average Latency: 0.49 ms\n",
      "\n"
     ]
    },
    {
     "name": "stderr",
     "output_type": "stream",
     "text": [
      "Epoch 3/20 [Training]: 100%|██████████| 73/73 [01:29<00:00,  1.22s/it, loss=1.97]\n"
     ]
    },
    {
     "name": "stdout",
     "output_type": "stream",
     "text": [
      "Epoch [3/20] Training Loss: 1.9699, mIoU: 0.1562, Average accuracy: 27.6441\n"
     ]
    },
    {
     "name": "stderr",
     "output_type": "stream",
     "text": [
      "Epoch 3/20 [Validation]: 100%|██████████| 43/43 [00:29<00:00,  1.44it/s, loss=1.74]\n"
     ]
    },
    {
     "name": "stdout",
     "output_type": "stream",
     "text": [
      "Epoch [3/20] Validation Loss: 1.7373, mIoU: 0.1995, Average accuracy: 32.1159 %, Total FLOPs: 1174.75 GFLOPs, Average Latency: 0.53 ms\n",
      "\n"
     ]
    },
    {
     "name": "stderr",
     "output_type": "stream",
     "text": [
      "Epoch 4/20 [Training]: 100%|██████████| 73/73 [01:29<00:00,  1.23s/it, loss=1.85]\n"
     ]
    },
    {
     "name": "stdout",
     "output_type": "stream",
     "text": [
      "Epoch [4/20] Training Loss: 1.8468, mIoU: 0.1664, Average accuracy: 28.0958\n"
     ]
    },
    {
     "name": "stderr",
     "output_type": "stream",
     "text": [
      "Epoch 4/20 [Validation]: 100%|██████████| 43/43 [00:30<00:00,  1.43it/s, loss=2.4] \n"
     ]
    },
    {
     "name": "stdout",
     "output_type": "stream",
     "text": [
      "Epoch [4/20] Validation Loss: 2.4035, mIoU: 0.1663, Average accuracy: 27.2842 %, Total FLOPs: 1174.75 GFLOPs, Average Latency: 0.42 ms\n",
      "\n"
     ]
    },
    {
     "name": "stderr",
     "output_type": "stream",
     "text": [
      "Epoch 5/20 [Training]: 100%|██████████| 73/73 [01:28<00:00,  1.22s/it, loss=1.72]\n"
     ]
    },
    {
     "name": "stdout",
     "output_type": "stream",
     "text": [
      "Epoch [5/20] Training Loss: 1.7195, mIoU: 0.1909, Average accuracy: 30.2979\n"
     ]
    },
    {
     "name": "stderr",
     "output_type": "stream",
     "text": [
      "Epoch 5/20 [Validation]: 100%|██████████| 43/43 [00:28<00:00,  1.52it/s, loss=7.88]\n"
     ]
    },
    {
     "name": "stdout",
     "output_type": "stream",
     "text": [
      "Epoch [5/20] Validation Loss: 7.8846, mIoU: 0.2238, Average accuracy: 33.0530 %, Total FLOPs: 1174.75 GFLOPs, Average Latency: 0.40 ms\n",
      "\n"
     ]
    },
    {
     "name": "stderr",
     "output_type": "stream",
     "text": [
      "Epoch 6/20 [Training]: 100%|██████████| 73/73 [01:29<00:00,  1.22s/it, loss=1.46]\n"
     ]
    },
    {
     "name": "stdout",
     "output_type": "stream",
     "text": [
      "Epoch [6/20] Training Loss: 1.4578, mIoU: 0.2175, Average accuracy: 33.1633\n"
     ]
    },
    {
     "name": "stderr",
     "output_type": "stream",
     "text": [
      "Epoch 6/20 [Validation]: 100%|██████████| 43/43 [00:27<00:00,  1.57it/s, loss=9.05]\n"
     ]
    },
    {
     "name": "stdout",
     "output_type": "stream",
     "text": [
      "Epoch [6/20] Validation Loss: 9.0542, mIoU: 0.2409, Average accuracy: 38.3454 %, Total FLOPs: 1174.75 GFLOPs, Average Latency: 0.40 ms\n",
      "\n"
     ]
    },
    {
     "name": "stderr",
     "output_type": "stream",
     "text": [
      "Epoch 7/20 [Training]: 100%|██████████| 73/73 [01:28<00:00,  1.21s/it, loss=1.46]\n"
     ]
    },
    {
     "name": "stdout",
     "output_type": "stream",
     "text": [
      "Epoch [7/20] Training Loss: 1.4618, mIoU: 0.2285, Average accuracy: 34.7636\n"
     ]
    },
    {
     "name": "stderr",
     "output_type": "stream",
     "text": [
      "Epoch 7/20 [Validation]: 100%|██████████| 43/43 [00:29<00:00,  1.44it/s, loss=3.98]\n"
     ]
    },
    {
     "name": "stdout",
     "output_type": "stream",
     "text": [
      "Epoch [7/20] Validation Loss: 3.9837, mIoU: 0.2086, Average accuracy: 32.8476 %, Total FLOPs: 1174.75 GFLOPs, Average Latency: 0.46 ms\n",
      "\n"
     ]
    },
    {
     "name": "stderr",
     "output_type": "stream",
     "text": [
      "Epoch 8/20 [Training]: 100%|██████████| 73/73 [01:29<00:00,  1.23s/it, loss=1.35]\n"
     ]
    },
    {
     "name": "stdout",
     "output_type": "stream",
     "text": [
      "Epoch [8/20] Training Loss: 1.3494, mIoU: 0.2336, Average accuracy: 34.9797\n"
     ]
    },
    {
     "name": "stderr",
     "output_type": "stream",
     "text": [
      "Epoch 8/20 [Validation]: 100%|██████████| 43/43 [00:29<00:00,  1.46it/s, loss=2.56]\n"
     ]
    },
    {
     "name": "stdout",
     "output_type": "stream",
     "text": [
      "Epoch [8/20] Validation Loss: 2.5628, mIoU: 0.2324, Average accuracy: 35.0962 %, Total FLOPs: 1174.75 GFLOPs, Average Latency: 0.42 ms\n",
      "\n"
     ]
    },
    {
     "name": "stderr",
     "output_type": "stream",
     "text": [
      "Epoch 9/20 [Training]: 100%|██████████| 73/73 [01:28<00:00,  1.21s/it, loss=1.25]\n"
     ]
    },
    {
     "name": "stdout",
     "output_type": "stream",
     "text": [
      "Epoch [9/20] Training Loss: 1.2488, mIoU: 0.2574, Average accuracy: 37.3399\n"
     ]
    },
    {
     "name": "stderr",
     "output_type": "stream",
     "text": [
      "Epoch 9/20 [Validation]: 100%|██████████| 43/43 [00:29<00:00,  1.47it/s, loss=2.75]\n"
     ]
    },
    {
     "name": "stdout",
     "output_type": "stream",
     "text": [
      "Epoch [9/20] Validation Loss: 2.7538, mIoU: 0.2582, Average accuracy: 38.8476 %, Total FLOPs: 1174.75 GFLOPs, Average Latency: 0.42 ms\n",
      "\n"
     ]
    },
    {
     "name": "stderr",
     "output_type": "stream",
     "text": [
      "Epoch 10/20 [Training]: 100%|██████████| 73/73 [01:28<00:00,  1.22s/it, loss=1.22]\n"
     ]
    },
    {
     "name": "stdout",
     "output_type": "stream",
     "text": [
      "Epoch [10/20] Training Loss: 1.2226, mIoU: 0.2761, Average accuracy: 39.4741\n"
     ]
    },
    {
     "name": "stderr",
     "output_type": "stream",
     "text": [
      "Epoch 10/20 [Validation]: 100%|██████████| 43/43 [00:29<00:00,  1.46it/s, loss=3.45]\n"
     ]
    },
    {
     "name": "stdout",
     "output_type": "stream",
     "text": [
      "Epoch [10/20] Validation Loss: 3.4463, mIoU: 0.2710, Average accuracy: 40.7909 %, Total FLOPs: 1174.75 GFLOPs, Average Latency: 0.56 ms\n",
      "\n"
     ]
    },
    {
     "name": "stderr",
     "output_type": "stream",
     "text": [
      "Epoch 11/20 [Training]: 100%|██████████| 73/73 [01:29<00:00,  1.22s/it, loss=1.17]\n"
     ]
    },
    {
     "name": "stdout",
     "output_type": "stream",
     "text": [
      "Epoch [11/20] Training Loss: 1.1661, mIoU: 0.2806, Average accuracy: 40.5997\n"
     ]
    },
    {
     "name": "stderr",
     "output_type": "stream",
     "text": [
      "Epoch 11/20 [Validation]: 100%|██████████| 43/43 [00:29<00:00,  1.45it/s, loss=2.34]\n"
     ]
    },
    {
     "name": "stdout",
     "output_type": "stream",
     "text": [
      "Epoch [11/20] Validation Loss: 2.3442, mIoU: 0.2409, Average accuracy: 35.6204 %, Total FLOPs: 1174.75 GFLOPs, Average Latency: 0.52 ms\n",
      "\n"
     ]
    },
    {
     "name": "stderr",
     "output_type": "stream",
     "text": [
      "Epoch 12/20 [Training]: 100%|██████████| 73/73 [01:11<00:00,  1.02it/s, loss=1.17]\n"
     ]
    },
    {
     "name": "stdout",
     "output_type": "stream",
     "text": [
      "Epoch [12/20] Training Loss: 1.1746, mIoU: 0.2818, Average accuracy: 40.5158\n"
     ]
    },
    {
     "name": "stderr",
     "output_type": "stream",
     "text": [
      "Epoch 12/20 [Validation]: 100%|██████████| 43/43 [00:28<00:00,  1.53it/s, loss=2.44]\n"
     ]
    },
    {
     "name": "stdout",
     "output_type": "stream",
     "text": [
      "Epoch [12/20] Validation Loss: 2.4362, mIoU: 0.2743, Average accuracy: 39.7227 %, Total FLOPs: 1174.75 GFLOPs, Average Latency: 0.51 ms\n",
      "\n"
     ]
    },
    {
     "name": "stderr",
     "output_type": "stream",
     "text": [
      "Epoch 13/20 [Training]: 100%|██████████| 73/73 [01:08<00:00,  1.07it/s, loss=1.14]\n"
     ]
    },
    {
     "name": "stdout",
     "output_type": "stream",
     "text": [
      "Epoch [13/20] Training Loss: 1.1436, mIoU: 0.2926, Average accuracy: 41.0432\n"
     ]
    },
    {
     "name": "stderr",
     "output_type": "stream",
     "text": [
      "Epoch 13/20 [Validation]: 100%|██████████| 43/43 [00:29<00:00,  1.47it/s, loss=2.52]\n"
     ]
    },
    {
     "name": "stdout",
     "output_type": "stream",
     "text": [
      "Epoch [13/20] Validation Loss: 2.5158, mIoU: 0.2567, Average accuracy: 36.6056 %, Total FLOPs: 1174.75 GFLOPs, Average Latency: 0.19 ms\n",
      "\n"
     ]
    },
    {
     "name": "stderr",
     "output_type": "stream",
     "text": [
      "Epoch 14/20 [Training]: 100%|██████████| 73/73 [01:06<00:00,  1.10it/s, loss=1.1] \n"
     ]
    },
    {
     "name": "stdout",
     "output_type": "stream",
     "text": [
      "Epoch [14/20] Training Loss: 1.0965, mIoU: 0.2991, Average accuracy: 42.4664\n"
     ]
    },
    {
     "name": "stderr",
     "output_type": "stream",
     "text": [
      "Epoch 14/20 [Validation]: 100%|██████████| 43/43 [00:27<00:00,  1.54it/s, loss=4.7] \n"
     ]
    },
    {
     "name": "stdout",
     "output_type": "stream",
     "text": [
      "Epoch [14/20] Validation Loss: 4.6966, mIoU: 0.2584, Average accuracy: 39.0810 %, Total FLOPs: 1174.75 GFLOPs, Average Latency: 0.40 ms\n",
      "\n"
     ]
    },
    {
     "name": "stderr",
     "output_type": "stream",
     "text": [
      "Epoch 15/20 [Training]: 100%|██████████| 73/73 [01:03<00:00,  1.14it/s, loss=1.04]\n"
     ]
    },
    {
     "name": "stdout",
     "output_type": "stream",
     "text": [
      "Epoch [15/20] Training Loss: 1.0354, mIoU: 0.3108, Average accuracy: 43.4485\n"
     ]
    },
    {
     "name": "stderr",
     "output_type": "stream",
     "text": [
      "Epoch 15/20 [Validation]: 100%|██████████| 43/43 [00:27<00:00,  1.59it/s, loss=5.31]\n"
     ]
    },
    {
     "name": "stdout",
     "output_type": "stream",
     "text": [
      "Epoch [15/20] Validation Loss: 5.3132, mIoU: 0.2774, Average accuracy: 39.8723 %, Total FLOPs: 1174.75 GFLOPs, Average Latency: 0.48 ms\n",
      "\n"
     ]
    },
    {
     "name": "stderr",
     "output_type": "stream",
     "text": [
      "Epoch 16/20 [Training]: 100%|██████████| 73/73 [01:07<00:00,  1.08it/s, loss=1.01] \n"
     ]
    },
    {
     "name": "stdout",
     "output_type": "stream",
     "text": [
      "Epoch [16/20] Training Loss: 1.0139, mIoU: 0.3210, Average accuracy: 43.9955\n"
     ]
    },
    {
     "name": "stderr",
     "output_type": "stream",
     "text": [
      "Epoch 16/20 [Validation]: 100%|██████████| 43/43 [00:27<00:00,  1.57it/s, loss=3.16]\n"
     ]
    },
    {
     "name": "stdout",
     "output_type": "stream",
     "text": [
      "Epoch [16/20] Validation Loss: 3.1571, mIoU: 0.2563, Average accuracy: 35.8316 %, Total FLOPs: 1174.75 GFLOPs, Average Latency: 0.44 ms\n",
      "\n"
     ]
    },
    {
     "name": "stderr",
     "output_type": "stream",
     "text": [
      "Epoch 17/20 [Training]: 100%|██████████| 73/73 [01:03<00:00,  1.14it/s, loss=0.981]\n"
     ]
    },
    {
     "name": "stdout",
     "output_type": "stream",
     "text": [
      "Epoch [17/20] Training Loss: 0.9814, mIoU: 0.3278, Average accuracy: 44.9441\n"
     ]
    },
    {
     "name": "stderr",
     "output_type": "stream",
     "text": [
      "Epoch 17/20 [Validation]: 100%|██████████| 43/43 [00:27<00:00,  1.54it/s, loss=2.61]\n"
     ]
    },
    {
     "name": "stdout",
     "output_type": "stream",
     "text": [
      "Epoch [17/20] Validation Loss: 2.6123, mIoU: 0.2794, Average accuracy: 41.9870 %, Total FLOPs: 1174.75 GFLOPs, Average Latency: 0.41 ms\n",
      "\n"
     ]
    },
    {
     "name": "stderr",
     "output_type": "stream",
     "text": [
      "Epoch 18/20 [Training]: 100%|██████████| 73/73 [01:04<00:00,  1.13it/s, loss=0.971]\n"
     ]
    },
    {
     "name": "stdout",
     "output_type": "stream",
     "text": [
      "Epoch [18/20] Training Loss: 0.9711, mIoU: 0.3370, Average accuracy: 45.6965\n"
     ]
    },
    {
     "name": "stderr",
     "output_type": "stream",
     "text": [
      "Epoch 18/20 [Validation]: 100%|██████████| 43/43 [00:29<00:00,  1.48it/s, loss=2.62]\n"
     ]
    },
    {
     "name": "stdout",
     "output_type": "stream",
     "text": [
      "Epoch [18/20] Validation Loss: 2.6177, mIoU: 0.2712, Average accuracy: 39.4499 %, Total FLOPs: 1174.75 GFLOPs, Average Latency: 0.42 ms\n",
      "\n"
     ]
    },
    {
     "name": "stderr",
     "output_type": "stream",
     "text": [
      "Epoch 19/20 [Training]: 100%|██████████| 73/73 [01:06<00:00,  1.10it/s, loss=0.926]\n"
     ]
    },
    {
     "name": "stdout",
     "output_type": "stream",
     "text": [
      "Epoch [19/20] Training Loss: 0.9260, mIoU: 0.3401, Average accuracy: 46.3071\n"
     ]
    },
    {
     "name": "stderr",
     "output_type": "stream",
     "text": [
      "Epoch 19/20 [Validation]: 100%|██████████| 43/43 [00:26<00:00,  1.59it/s, loss=2.38]\n"
     ]
    },
    {
     "name": "stdout",
     "output_type": "stream",
     "text": [
      "Epoch [19/20] Validation Loss: 2.3752, mIoU: 0.2921, Average accuracy: 41.5490 %, Total FLOPs: 1174.75 GFLOPs, Average Latency: 0.44 ms\n",
      "\n"
     ]
    },
    {
     "name": "stderr",
     "output_type": "stream",
     "text": [
      "Epoch 20/20 [Training]: 100%|██████████| 73/73 [01:07<00:00,  1.08it/s, loss=0.912]\n"
     ]
    },
    {
     "name": "stdout",
     "output_type": "stream",
     "text": [
      "Epoch [20/20] Training Loss: 0.9117, mIoU: 0.3471, Average accuracy: 46.8264\n"
     ]
    },
    {
     "name": "stderr",
     "output_type": "stream",
     "text": [
      "Epoch 20/20 [Validation]: 100%|██████████| 43/43 [00:27<00:00,  1.59it/s, loss=3.81]"
     ]
    },
    {
     "name": "stdout",
     "output_type": "stream",
     "text": [
      "Epoch [20/20] Validation Loss: 3.8114, mIoU: 0.2740, Average accuracy: 38.1640 %, Total FLOPs: 1174.75 GFLOPs, Average Latency: 0.40 ms\n",
      "\n"
     ]
    },
    {
     "name": "stderr",
     "output_type": "stream",
     "text": [
      "\n"
     ]
    }
   ],
   "source": [
    "%run train_loveDA.py"
   ]
  }
 ],
 "metadata": {
  "kernelspec": {
   "display_name": "RobotLearning",
   "language": "python",
   "name": "python3"
  },
  "language_info": {
   "codemirror_mode": {
    "name": "ipython",
    "version": 3
   },
   "file_extension": ".py",
   "mimetype": "text/x-python",
   "name": "python",
   "nbconvert_exporter": "python",
   "pygments_lexer": "ipython3",
   "version": "3.8.20"
  }
 },
 "nbformat": 4,
 "nbformat_minor": 2
}
